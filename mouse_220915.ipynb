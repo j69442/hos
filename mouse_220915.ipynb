{
 "cells": [
  {
   "cell_type": "code",
   "execution_count": 21,
   "id": "06db10a0-23f1-401c-99bc-b8f228a58c5d",
   "metadata": {},
   "outputs": [
    {
     "ename": "NameError",
     "evalue": "name 'wxPython' is not defined",
     "output_type": "error",
     "traceback": [
      "\u001b[1;31m---------------------------------------------------------------------------\u001b[0m",
      "\u001b[1;31mNameError\u001b[0m                                 Traceback (most recent call last)",
      "Cell \u001b[1;32mIn [21], line 2\u001b[0m\n\u001b[0;32m      1\u001b[0m deeplabcut\u001b[38;5;241m.\u001b[39m__version__\n\u001b[1;32m----> 2\u001b[0m \u001b[43mwxPython\u001b[49m\u001b[38;5;241m.\u001b[39m__vsersion__\n",
      "\u001b[1;31mNameError\u001b[0m: name 'wxPython' is not defined"
     ]
    }
   ],
   "source": [
    "deeplabcut.__version__"
   ]
  },
  {
   "cell_type": "code",
   "execution_count": 1,
   "id": "96b98aae",
   "metadata": {
    "scrolled": true
   },
   "outputs": [
    {
     "name": "stdout",
     "output_type": "stream",
     "text": [
      "C:\\Users\\Administrator\\Desktop\\APE_Project\\DeepLabCut-master\n"
     ]
    }
   ],
   "source": [
    "import os\n",
    "print(os.getcwd())"
   ]
  },
  {
   "cell_type": "code",
   "execution_count": 3,
   "id": "4790d663-7aec-4362-8a50-dac6f192952d",
   "metadata": {},
   "outputs": [
    {
     "name": "stdout",
     "output_type": "stream",
     "text": [
      "Collecting ipywidgets\n",
      "  Downloading ipywidgets-8.0.2-py3-none-any.whl (134 kB)\n",
      "     -------------------------------------- 134.4/134.4 kB 4.0 MB/s eta 0:00:00\n",
      "Requirement already satisfied: ipykernel>=4.5.1 in d:\\anaconda3\\envs\\test2\\lib\\site-packages (from ipywidgets) (6.15.3)\n",
      "Requirement already satisfied: traitlets>=4.3.1 in d:\\anaconda3\\envs\\test2\\lib\\site-packages (from ipywidgets) (5.4.0)\n",
      "Collecting jupyterlab-widgets~=3.0\n",
      "  Downloading jupyterlab_widgets-3.0.3-py3-none-any.whl (384 kB)\n",
      "     ------------------------------------- 384.1/384.1 kB 11.7 MB/s eta 0:00:00\n",
      "Requirement already satisfied: ipython>=6.1.0 in d:\\anaconda3\\envs\\test2\\lib\\site-packages (from ipywidgets) (8.5.0)\n",
      "Collecting widgetsnbextension~=4.0\n",
      "  Downloading widgetsnbextension-4.0.3-py3-none-any.whl (2.0 MB)\n",
      "     ---------------------------------------- 2.0/2.0 MB 16.2 MB/s eta 0:00:00\n",
      "Requirement already satisfied: packaging in d:\\anaconda3\\envs\\test2\\lib\\site-packages (from ipykernel>=4.5.1->ipywidgets) (21.3)\n",
      "Requirement already satisfied: pyzmq>=17 in d:\\anaconda3\\envs\\test2\\lib\\site-packages (from ipykernel>=4.5.1->ipywidgets) (23.2.1)\n",
      "Requirement already satisfied: tornado>=6.1 in d:\\anaconda3\\envs\\test2\\lib\\site-packages (from ipykernel>=4.5.1->ipywidgets) (6.2)\n",
      "Requirement already satisfied: matplotlib-inline>=0.1 in d:\\anaconda3\\envs\\test2\\lib\\site-packages (from ipykernel>=4.5.1->ipywidgets) (0.1.6)\n",
      "Requirement already satisfied: debugpy>=1.0 in d:\\anaconda3\\envs\\test2\\lib\\site-packages (from ipykernel>=4.5.1->ipywidgets) (1.6.3)\n",
      "Requirement already satisfied: jupyter-client>=6.1.12 in d:\\anaconda3\\envs\\test2\\lib\\site-packages (from ipykernel>=4.5.1->ipywidgets) (7.3.5)\n",
      "Requirement already satisfied: psutil in d:\\anaconda3\\envs\\test2\\lib\\site-packages (from ipykernel>=4.5.1->ipywidgets) (5.9.2)\n",
      "Requirement already satisfied: nest-asyncio in d:\\anaconda3\\envs\\test2\\lib\\site-packages (from ipykernel>=4.5.1->ipywidgets) (1.5.5)\n",
      "Requirement already satisfied: stack-data in d:\\anaconda3\\envs\\test2\\lib\\site-packages (from ipython>=6.1.0->ipywidgets) (0.5.0)\n",
      "Requirement already satisfied: backcall in d:\\anaconda3\\envs\\test2\\lib\\site-packages (from ipython>=6.1.0->ipywidgets) (0.2.0)\n",
      "Requirement already satisfied: prompt-toolkit<3.1.0,>3.0.1 in d:\\anaconda3\\envs\\test2\\lib\\site-packages (from ipython>=6.1.0->ipywidgets) (3.0.31)\n",
      "Requirement already satisfied: jedi>=0.16 in d:\\anaconda3\\envs\\test2\\lib\\site-packages (from ipython>=6.1.0->ipywidgets) (0.18.1)\n",
      "Requirement already satisfied: decorator in d:\\anaconda3\\envs\\test2\\lib\\site-packages (from ipython>=6.1.0->ipywidgets) (5.1.1)\n",
      "Requirement already satisfied: colorama in d:\\anaconda3\\envs\\test2\\lib\\site-packages (from ipython>=6.1.0->ipywidgets) (0.4.5)\n",
      "Requirement already satisfied: pygments>=2.4.0 in d:\\anaconda3\\envs\\test2\\lib\\site-packages (from ipython>=6.1.0->ipywidgets) (2.13.0)\n",
      "Requirement already satisfied: pickleshare in d:\\anaconda3\\envs\\test2\\lib\\site-packages (from ipython>=6.1.0->ipywidgets) (0.7.5)\n",
      "Requirement already satisfied: parso<0.9.0,>=0.8.0 in d:\\anaconda3\\envs\\test2\\lib\\site-packages (from jedi>=0.16->ipython>=6.1.0->ipywidgets) (0.8.3)\n",
      "Requirement already satisfied: python-dateutil>=2.8.2 in d:\\anaconda3\\envs\\test2\\lib\\site-packages (from jupyter-client>=6.1.12->ipykernel>=4.5.1->ipywidgets) (2.8.2)\n",
      "Requirement already satisfied: entrypoints in d:\\anaconda3\\envs\\test2\\lib\\site-packages (from jupyter-client>=6.1.12->ipykernel>=4.5.1->ipywidgets) (0.4)\n",
      "Requirement already satisfied: jupyter-core>=4.9.2 in d:\\anaconda3\\envs\\test2\\lib\\site-packages (from jupyter-client>=6.1.12->ipykernel>=4.5.1->ipywidgets) (4.11.1)\n",
      "Requirement already satisfied: wcwidth in d:\\anaconda3\\envs\\test2\\lib\\site-packages (from prompt-toolkit<3.1.0,>3.0.1->ipython>=6.1.0->ipywidgets) (0.2.5)\n",
      "Requirement already satisfied: pyparsing!=3.0.5,>=2.0.2 in d:\\anaconda3\\envs\\test2\\lib\\site-packages (from packaging->ipykernel>=4.5.1->ipywidgets) (3.0.9)\n",
      "Requirement already satisfied: pure-eval in d:\\anaconda3\\envs\\test2\\lib\\site-packages (from stack-data->ipython>=6.1.0->ipywidgets) (0.2.2)\n",
      "Requirement already satisfied: asttokens in d:\\anaconda3\\envs\\test2\\lib\\site-packages (from stack-data->ipython>=6.1.0->ipywidgets) (2.0.8)\n",
      "Requirement already satisfied: executing in d:\\anaconda3\\envs\\test2\\lib\\site-packages (from stack-data->ipython>=6.1.0->ipywidgets) (1.0.0)\n",
      "Requirement already satisfied: pywin32>=1.0 in d:\\anaconda3\\envs\\test2\\lib\\site-packages (from jupyter-core>=4.9.2->jupyter-client>=6.1.12->ipykernel>=4.5.1->ipywidgets) (303)\n",
      "Requirement already satisfied: six>=1.5 in d:\\anaconda3\\envs\\test2\\lib\\site-packages (from python-dateutil>=2.8.2->jupyter-client>=6.1.12->ipykernel>=4.5.1->ipywidgets) (1.16.0)\n",
      "Installing collected packages: widgetsnbextension, jupyterlab-widgets, ipywidgets\n",
      "Successfully installed ipywidgets-8.0.2 jupyterlab-widgets-3.0.3 widgetsnbextension-4.0.3\n",
      "Note: you may need to restart the kernel to use updated packages.\n"
     ]
    }
   ],
   "source": [
    "pip install ipywidgets"
   ]
  },
  {
   "cell_type": "code",
   "execution_count": 2,
   "id": "a6ecae4c",
   "metadata": {},
   "outputs": [
    {
     "name": "stdout",
     "output_type": "stream",
     "text": [
      "Loading DLC 2.2.2...\n"
     ]
    }
   ],
   "source": [
    "import deeplabcut"
   ]
  },
  {
   "cell_type": "code",
   "execution_count": 19,
   "id": "4fad7b57",
   "metadata": {},
   "outputs": [
    {
     "name": "stdout",
     "output_type": "stream",
     "text": [
      "Requirement already satisfied: wxPython in d:\\anaconda3\\envs\\test2\\lib\\site-packages (4.2.0)\n",
      "Requirement already satisfied: six in d:\\anaconda3\\envs\\test2\\lib\\site-packages (from wxPython) (1.16.0)\n",
      "Requirement already satisfied: pillow in d:\\anaconda3\\envs\\test2\\lib\\site-packages (from wxPython) (9.2.0)\n",
      "Requirement already satisfied: numpy in d:\\anaconda3\\envs\\test2\\lib\\site-packages (from wxPython) (1.23.3)\n"
     ]
    }
   ],
   "source": [
    "!pip install wxPython\n",
    "#import torch"
   ]
  },
  {
   "cell_type": "code",
   "execution_count": 5,
   "id": "c7aa28aa",
   "metadata": {
    "tags": []
   },
   "outputs": [
    {
     "name": "stdout",
     "output_type": "stream",
     "text": [
      "Created \"C:\\Users\\Administrator\\Desktop\\APE_Project\\DeepLabCut-master\\cutemice-me-2022-09-16\\videos\"\n",
      "Created \"C:\\Users\\Administrator\\Desktop\\APE_Project\\DeepLabCut-master\\cutemice-me-2022-09-16\\labeled-data\"\n",
      "Created \"C:\\Users\\Administrator\\Desktop\\APE_Project\\DeepLabCut-master\\cutemice-me-2022-09-16\\training-datasets\"\n",
      "Created \"C:\\Users\\Administrator\\Desktop\\APE_Project\\DeepLabCut-master\\cutemice-me-2022-09-16\\dlc-models\"\n",
      "1  videos from the directory C:/Users/Administrator/Desktop/APE_Project/test/mouse/videos were added to the project.\n",
      "Copying the videos\n",
      "C:\\Users\\Administrator\\Desktop\\APE_Project\\DeepLabCut-master\\cutemice-me-2022-09-16\\videos\\test.mp4\n",
      "Generated \"C:\\Users\\Administrator\\Desktop\\APE_Project\\DeepLabCut-master\\cutemice-me-2022-09-16\\config.yaml\"\n",
      "\n",
      "A new project with name cutemice-me-2022-09-16 is created at C:\\Users\\Administrator\\Desktop\\APE_Project\\DeepLabCut-master and a configurable file (config.yaml) is stored there. Change the parameters in this file to adapt to your project's needs.\n",
      " Once you have changed the configuration file, use the function 'extract_frames' to select frames for labeling.\n",
      ". [OPTIONAL] Use the function 'add_new_videos' to add new videos to your project (at any stage).\n"
     ]
    }
   ],
   "source": [
    "# project_name = \"cutemice\"\n",
    "# experimenter = \"me\"\n",
    "# video_path = \"C:/Users/Administrator/Desktop/APE_Project/test/mouse/videos\"\n",
    "# config_path = deeplabcut.create_new_project(\n",
    "#    project_name,\n",
    "#    experimenter,\n",
    "#    [video_path],\n",
    "#    multianimal=False,\n",
    "#    copy_videos=True,\n",
    "# )"
   ]
  },
  {
   "cell_type": "code",
   "execution_count": 9,
   "id": "17737881-dd3e-422d-879e-23da47657c1b",
   "metadata": {},
   "outputs": [],
   "source": [
    "config_path = \"C:/Users/Administrator/Desktop/APE_Project/DeepLabCut-master/cutemice-me-2022-09-15/config.yaml\""
   ]
  },
  {
   "cell_type": "code",
   "execution_count": 4,
   "id": "e301c89a",
   "metadata": {},
   "outputs": [
    {
     "name": "stdout",
     "output_type": "stream",
     "text": [
      "Config file read successfully.\n",
      "Extracting frames based on kmeans ...\n",
      "Kmeans-quantization based extracting of frames from 0.0  seconds to 182.17  seconds.\n",
      "Extracting and downsampling... 5465  frames from the video.\n"
     ]
    },
    {
     "name": "stderr",
     "output_type": "stream",
     "text": [
      "5465it [00:40, 136.19it/s]\n",
      "D:\\anaconda3\\lib\\site-packages\\sklearn\\cluster\\_kmeans.py:1043: UserWarning: MiniBatchKMeans is known to have a memory leak on Windows with MKL, when there are less chunks than available threads. You can prevent it by setting batch_size >= 5120 or by setting the environment variable OMP_NUM_THREADS=1\n",
      "  warnings.warn(\n"
     ]
    },
    {
     "name": "stdout",
     "output_type": "stream",
     "text": [
      "Kmeans clustering ... (this might take a while)\n",
      "Frames were successfully extracted, for the videos listed in the config.yaml file.\n",
      "\n",
      "You can now label the frames using the function 'label_frames' (Note, you should label frames extracted from diverse videos (and many videos; we do not recommend training on single videos!)).\n"
     ]
    }
   ],
   "source": [
    "deeplabcut.extract_frames(\n",
    "    config_path,\n",
    "    mode=\"automatic\",\n",
    "    algo=\"kmeans\",\n",
    "    userfeedback=False,\n",
    ")"
   ]
  },
  {
   "cell_type": "code",
   "execution_count": 11,
   "id": "2ad1761c",
   "metadata": {},
   "outputs": [
    {
     "name": "stdout",
     "output_type": "stream",
     "text": [
      "Found new frames..\n"
     ]
    }
   ],
   "source": [
    "deeplabcut.label_frames(config_path)"
   ]
  },
  {
   "cell_type": "code",
   "execution_count": 10,
   "id": "7c144975",
   "metadata": {},
   "outputs": [
    {
     "name": "stdout",
     "output_type": "stream",
     "text": [
      "Creating images with labels by me.\n"
     ]
    },
    {
     "name": "stderr",
     "output_type": "stream",
     "text": [
      "100%|██████████████████████████████████████████████████████████████████████████████████| 15/15 [00:05<00:00,  2.71it/s]"
     ]
    },
    {
     "name": "stdout",
     "output_type": "stream",
     "text": [
      "If all the labels are ok, then use the function 'create_training_dataset' to create the training dataset!\n"
     ]
    },
    {
     "name": "stderr",
     "output_type": "stream",
     "text": [
      "\n"
     ]
    }
   ],
   "source": [
    "deeplabcut.check_labels(\n",
    "    config_path,\n",
    "    draw_skeleton=True,\n",
    ")"
   ]
  },
  {
   "cell_type": "code",
   "execution_count": null,
   "id": "152dc8e5",
   "metadata": {},
   "outputs": [],
   "source": []
  },
  {
   "cell_type": "code",
   "execution_count": 61,
   "id": "1c66a48a",
   "metadata": {
    "scrolled": true
   },
   "outputs": [
    {
     "name": "stdout",
     "output_type": "stream",
     "text": [
      "The training dataset is successfully created. Use the function 'train_network' to start training. Happy training!\n"
     ]
    },
    {
     "data": {
      "text/plain": [
       "[(0.95,\n",
       "  1,\n",
       "  (array([ 0,  7,  9, 10,  3, 12,  5,  1,  2,  8,  6, 11,  4, 13]),\n",
       "   array([14])))]"
      ]
     },
     "execution_count": 61,
     "metadata": {},
     "output_type": "execute_result"
    }
   ],
   "source": [
    "deeplabcut.create_training_dataset(config_path, augmenter_type='imgaug')"
   ]
  },
  {
   "cell_type": "code",
   "execution_count": null,
   "id": "5ed37aab",
   "metadata": {},
   "outputs": [],
   "source": []
  },
  {
   "cell_type": "code",
   "execution_count": 62,
   "id": "64e901bb",
   "metadata": {
    "scrolled": true,
    "tags": []
   },
   "outputs": [
    {
     "name": "stderr",
     "output_type": "stream",
     "text": [
      "Config:\n",
      "{'all_joints': [[0], [1], [2], [3], [4], [5], [6], [7], [8], [9], [10]],\n",
      " 'all_joints_names': ['snout',\n",
      "                      'rightear',\n",
      "                      'leftear',\n",
      "                      'shoulder',\n",
      "                      'spine1',\n",
      "                      'spine2',\n",
      "                      'sacrum',\n",
      "                      'tailbase',\n",
      "                      'tail1',\n",
      "                      'tail2',\n",
      "                      'tailend'],\n",
      " 'alpha_r': 0.02,\n",
      " 'apply_prob': 0.5,\n",
      " 'batch_size': 1,\n",
      " 'contrast': {'clahe': True,\n",
      "              'claheratio': 0.1,\n",
      "              'histeq': True,\n",
      "              'histeqratio': 0.1},\n",
      " 'convolution': {'edge': False,\n",
      "                 'emboss': {'alpha': [0.0, 1.0], 'strength': [0.5, 1.5]},\n",
      "                 'embossratio': 0.1,\n",
      "                 'sharpen': False,\n",
      "                 'sharpenratio': 0.3},\n",
      " 'crop_pad': 0,\n",
      " 'cropratio': 0.4,\n",
      " 'dataset': 'training-datasets\\\\iteration-0\\\\UnaugmentedDataSet_cutemiceSep15\\\\cutemice_me95shuffle1.mat',\n",
      " 'dataset_type': 'imgaug',\n",
      " 'decay_steps': 30000,\n",
      " 'deterministic': False,\n",
      " 'display_iters': 1000,\n",
      " 'fg_fraction': 0.25,\n",
      " 'global_scale': 0.8,\n",
      " 'init_weights': 'C:\\\\Users\\\\Administrator\\\\Desktop\\\\APE_Project\\\\DeepLabCut-master\\\\deeplabcut\\\\pose_estimation_tensorflow\\\\models\\\\pretrained\\\\resnet_v1_50.ckpt',\n",
      " 'intermediate_supervision': False,\n",
      " 'intermediate_supervision_layer': 12,\n",
      " 'location_refinement': True,\n",
      " 'locref_huber_loss': True,\n",
      " 'locref_loss_weight': 0.05,\n",
      " 'locref_stdev': 7.2801,\n",
      " 'log_dir': 'log',\n",
      " 'lr_init': 0.0005,\n",
      " 'max_input_size': 1500,\n",
      " 'mean_pixel': [123.68, 116.779, 103.939],\n",
      " 'metadataset': 'training-datasets\\\\iteration-0\\\\UnaugmentedDataSet_cutemiceSep15\\\\Documentation_data-cutemice_95shuffle1.pickle',\n",
      " 'min_input_size': 64,\n",
      " 'mirror': False,\n",
      " 'multi_stage': False,\n",
      " 'multi_step': [[0.005, 10000],\n",
      "                [0.02, 430000],\n",
      "                [0.002, 730000],\n",
      "                [0.001, 1030000]],\n",
      " 'net_type': 'resnet_50',\n",
      " 'num_joints': 11,\n",
      " 'optimizer': 'sgd',\n",
      " 'pairwise_huber_loss': False,\n",
      " 'pairwise_predict': False,\n",
      " 'partaffinityfield_predict': False,\n",
      " 'pos_dist_thresh': 17,\n",
      " 'project_path': 'C:/Users/Administrator/Desktop/APE_Project/DeepLabCut-master/cutemice-me-2022-09-15',\n",
      " 'regularize': False,\n",
      " 'rotation': 25,\n",
      " 'rotratio': 0.4,\n",
      " 'save_iters': 50000,\n",
      " 'scale_jitter_lo': 0.5,\n",
      " 'scale_jitter_up': 1.25,\n",
      " 'scoremap_dir': 'test',\n",
      " 'shuffle': True,\n",
      " 'snapshot_prefix': 'C:\\\\Users\\\\Administrator\\\\Desktop\\\\APE_Project\\\\DeepLabCut-master\\\\cutemice-me-2022-09-15\\\\dlc-models\\\\iteration-0\\\\cutemiceSep15-trainset95shuffle1\\\\train\\\\snapshot',\n",
      " 'stride': 8.0,\n",
      " 'weigh_negatives': False,\n",
      " 'weigh_only_present_joints': False,\n",
      " 'weigh_part_predictions': False,\n",
      " 'weight_decay': 0.0001}\n"
     ]
    },
    {
     "name": "stdout",
     "output_type": "stream",
     "text": [
      "Selecting single-animal trainer\n",
      "Batch Size is 1\n"
     ]
    },
    {
     "name": "stderr",
     "output_type": "stream",
     "text": [
      "D:\\anaconda3\\envs\\test2\\lib\\site-packages\\tensorflow\\python\\keras\\engine\\base_layer_v1.py:1694: UserWarning: `layer.apply` is deprecated and will be removed in a future version. Please use `layer.__call__` method instead.\n",
      "  warnings.warn('`layer.apply` is deprecated and '\n"
     ]
    },
    {
     "name": "stdout",
     "output_type": "stream",
     "text": [
      "Loading ImageNet-pretrained resnet_50\n",
      "Max_iters overwritten as 10000\n",
      "Display_iters overwritten as 100\n",
      "Save_iters overwritten as 100\n",
      "Training parameter:\n",
      "{'stride': 8.0, 'weigh_part_predictions': False, 'weigh_negatives': False, 'fg_fraction': 0.25, 'mean_pixel': [123.68, 116.779, 103.939], 'shuffle': True, 'snapshot_prefix': 'C:\\\\Users\\\\Administrator\\\\Desktop\\\\APE_Project\\\\DeepLabCut-master\\\\cutemice-me-2022-09-15\\\\dlc-models\\\\iteration-0\\\\cutemiceSep15-trainset95shuffle1\\\\train\\\\snapshot', 'log_dir': 'log', 'global_scale': 0.8, 'location_refinement': True, 'locref_stdev': 7.2801, 'locref_loss_weight': 0.05, 'locref_huber_loss': True, 'optimizer': 'sgd', 'intermediate_supervision': False, 'intermediate_supervision_layer': 12, 'regularize': False, 'weight_decay': 0.0001, 'crop_pad': 0, 'scoremap_dir': 'test', 'batch_size': 1, 'dataset_type': 'imgaug', 'deterministic': False, 'mirror': False, 'pairwise_huber_loss': False, 'weigh_only_present_joints': False, 'partaffinityfield_predict': False, 'pairwise_predict': False, 'all_joints': [[0], [1], [2], [3], [4], [5], [6], [7], [8], [9], [10]], 'all_joints_names': ['snout', 'rightear', 'leftear', 'shoulder', 'spine1', 'spine2', 'sacrum', 'tailbase', 'tail1', 'tail2', 'tailend'], 'alpha_r': 0.02, 'apply_prob': 0.5, 'contrast': {'clahe': True, 'claheratio': 0.1, 'histeq': True, 'histeqratio': 0.1, 'gamma': False, 'sigmoid': False, 'log': False, 'linear': False}, 'convolution': {'edge': False, 'emboss': {'alpha': [0.0, 1.0], 'strength': [0.5, 1.5]}, 'embossratio': 0.1, 'sharpen': False, 'sharpenratio': 0.3}, 'cropratio': 0.4, 'dataset': 'training-datasets\\\\iteration-0\\\\UnaugmentedDataSet_cutemiceSep15\\\\cutemice_me95shuffle1.mat', 'decay_steps': 30000, 'display_iters': 1000, 'init_weights': 'C:\\\\Users\\\\Administrator\\\\Desktop\\\\APE_Project\\\\DeepLabCut-master\\\\deeplabcut\\\\pose_estimation_tensorflow\\\\models\\\\pretrained\\\\resnet_v1_50.ckpt', 'lr_init': 0.0005, 'max_input_size': 1500, 'metadataset': 'training-datasets\\\\iteration-0\\\\UnaugmentedDataSet_cutemiceSep15\\\\Documentation_data-cutemice_95shuffle1.pickle', 'min_input_size': 64, 'multi_stage': False, 'multi_step': [[0.005, 10000], [0.02, 430000], [0.002, 730000], [0.001, 1030000]], 'net_type': 'resnet_50', 'num_joints': 11, 'pos_dist_thresh': 17, 'project_path': 'C:/Users/Administrator/Desktop/APE_Project/DeepLabCut-master/cutemice-me-2022-09-15', 'rotation': 25, 'rotratio': 0.4, 'save_iters': 50000, 'scale_jitter_lo': 0.5, 'scale_jitter_up': 1.25, 'covering': True, 'elastic_transform': True, 'motion_blur': True, 'motion_blur_params': {'k': 7, 'angle': (-90, 90)}}\n",
      "Starting training....\n"
     ]
    },
    {
     "name": "stderr",
     "output_type": "stream",
     "text": [
      "iteration: 100 loss: 0.0656 lr: 0.005\n",
      "iteration: 200 loss: 0.0217 lr: 0.005\n",
      "iteration: 300 loss: 0.0212 lr: 0.005\n",
      "iteration: 400 loss: 0.0204 lr: 0.005\n",
      "iteration: 500 loss: 0.0184 lr: 0.005\n",
      "iteration: 600 loss: 0.0186 lr: 0.005\n",
      "iteration: 700 loss: 0.0180 lr: 0.005\n",
      "iteration: 800 loss: 0.0178 lr: 0.005\n",
      "iteration: 900 loss: 0.0171 lr: 0.005\n",
      "iteration: 1000 loss: 0.0166 lr: 0.005\n",
      "iteration: 1100 loss: 0.0154 lr: 0.005\n",
      "iteration: 1200 loss: 0.0162 lr: 0.005\n",
      "iteration: 1300 loss: 0.0143 lr: 0.005\n",
      "iteration: 1400 loss: 0.0145 lr: 0.005\n",
      "iteration: 1500 loss: 0.0141 lr: 0.005\n",
      "iteration: 1600 loss: 0.0140 lr: 0.005\n",
      "iteration: 1700 loss: 0.0138 lr: 0.005\n",
      "iteration: 1800 loss: 0.0138 lr: 0.005\n",
      "iteration: 1900 loss: 0.0135 lr: 0.005\n",
      "iteration: 2000 loss: 0.0125 lr: 0.005\n",
      "iteration: 2100 loss: 0.0127 lr: 0.005\n",
      "iteration: 2200 loss: 0.0125 lr: 0.005\n",
      "iteration: 2300 loss: 0.0114 lr: 0.005\n",
      "iteration: 2400 loss: 0.0127 lr: 0.005\n",
      "iteration: 2500 loss: 0.0118 lr: 0.005\n",
      "iteration: 2600 loss: 0.0116 lr: 0.005\n",
      "iteration: 2700 loss: 0.0113 lr: 0.005\n",
      "iteration: 2800 loss: 0.0116 lr: 0.005\n",
      "iteration: 2900 loss: 0.0107 lr: 0.005\n",
      "iteration: 3000 loss: 0.0105 lr: 0.005\n",
      "iteration: 3100 loss: 0.0103 lr: 0.005\n",
      "iteration: 3200 loss: 0.0106 lr: 0.005\n",
      "iteration: 3300 loss: 0.0106 lr: 0.005\n",
      "iteration: 3400 loss: 0.0097 lr: 0.005\n",
      "iteration: 3500 loss: 0.0102 lr: 0.005\n",
      "iteration: 3600 loss: 0.0096 lr: 0.005\n",
      "iteration: 3700 loss: 0.0096 lr: 0.005\n",
      "iteration: 3800 loss: 0.0095 lr: 0.005\n",
      "iteration: 3900 loss: 0.0097 lr: 0.005\n",
      "iteration: 4000 loss: 0.0091 lr: 0.005\n",
      "iteration: 4100 loss: 0.0096 lr: 0.005\n",
      "iteration: 4200 loss: 0.0090 lr: 0.005\n",
      "iteration: 4300 loss: 0.0093 lr: 0.005\n",
      "iteration: 4400 loss: 0.0092 lr: 0.005\n",
      "iteration: 4500 loss: 0.0082 lr: 0.005\n",
      "iteration: 4600 loss: 0.0085 lr: 0.005\n",
      "iteration: 4700 loss: 0.0085 lr: 0.005\n",
      "iteration: 4800 loss: 0.0082 lr: 0.005\n",
      "iteration: 4900 loss: 0.0083 lr: 0.005\n",
      "iteration: 5000 loss: 0.0086 lr: 0.005\n",
      "iteration: 5100 loss: 0.0083 lr: 0.005\n",
      "iteration: 5200 loss: 0.0080 lr: 0.005\n",
      "iteration: 5300 loss: 0.0079 lr: 0.005\n",
      "iteration: 5400 loss: 0.0079 lr: 0.005\n",
      "iteration: 5500 loss: 0.0077 lr: 0.005\n",
      "iteration: 5600 loss: 0.0080 lr: 0.005\n",
      "iteration: 5700 loss: 0.0079 lr: 0.005\n",
      "iteration: 5800 loss: 0.0076 lr: 0.005\n",
      "iteration: 5900 loss: 0.0072 lr: 0.005\n",
      "iteration: 6000 loss: 0.0075 lr: 0.005\n",
      "iteration: 6100 loss: 0.0071 lr: 0.005\n",
      "iteration: 6200 loss: 0.0078 lr: 0.005\n",
      "iteration: 6300 loss: 0.0073 lr: 0.005\n",
      "iteration: 6400 loss: 0.0071 lr: 0.005\n",
      "iteration: 6500 loss: 0.0068 lr: 0.005\n",
      "iteration: 6600 loss: 0.0066 lr: 0.005\n",
      "iteration: 6700 loss: 0.0070 lr: 0.005\n",
      "iteration: 6800 loss: 0.0066 lr: 0.005\n",
      "iteration: 6900 loss: 0.0071 lr: 0.005\n",
      "iteration: 7000 loss: 0.0068 lr: 0.005\n",
      "iteration: 7100 loss: 0.0065 lr: 0.005\n",
      "iteration: 7200 loss: 0.0067 lr: 0.005\n",
      "iteration: 7300 loss: 0.0062 lr: 0.005\n",
      "iteration: 7400 loss: 0.0067 lr: 0.005\n",
      "iteration: 7500 loss: 0.0068 lr: 0.005\n",
      "iteration: 7600 loss: 0.0063 lr: 0.005\n",
      "iteration: 7700 loss: 0.0067 lr: 0.005\n",
      "iteration: 7800 loss: 0.0067 lr: 0.005\n",
      "iteration: 7900 loss: 0.0062 lr: 0.005\n",
      "iteration: 8000 loss: 0.0061 lr: 0.005\n",
      "iteration: 8100 loss: 0.0066 lr: 0.005\n",
      "iteration: 8200 loss: 0.0062 lr: 0.005\n",
      "iteration: 8300 loss: 0.0061 lr: 0.005\n",
      "iteration: 8400 loss: 0.0062 lr: 0.005\n",
      "iteration: 8500 loss: 0.0058 lr: 0.005\n",
      "iteration: 8600 loss: 0.0058 lr: 0.005\n",
      "iteration: 8700 loss: 0.0062 lr: 0.005\n",
      "iteration: 8800 loss: 0.0061 lr: 0.005\n",
      "iteration: 8900 loss: 0.0058 lr: 0.005\n",
      "iteration: 9000 loss: 0.0058 lr: 0.005\n",
      "iteration: 9100 loss: 0.0060 lr: 0.005\n",
      "iteration: 9200 loss: 0.0061 lr: 0.005\n",
      "iteration: 9300 loss: 0.0057 lr: 0.005\n",
      "iteration: 9400 loss: 0.0057 lr: 0.005\n",
      "iteration: 9500 loss: 0.0055 lr: 0.005\n",
      "iteration: 9600 loss: 0.0058 lr: 0.005\n",
      "iteration: 9700 loss: 0.0057 lr: 0.005\n",
      "iteration: 9800 loss: 0.0057 lr: 0.005\n",
      "iteration: 9900 loss: 0.0058 lr: 0.005\n",
      "iteration: 10000 loss: 0.0055 lr: 0.005\n",
      "Exception in thread Thread-41:\n",
      "Traceback (most recent call last):\n",
      "  File \"D:\\anaconda3\\envs\\test2\\lib\\site-packages\\tensorflow\\python\\client\\session.py\", line 1378, in _do_call\n",
      "    return fn(*args)\n",
      "  File \"D:\\anaconda3\\envs\\test2\\lib\\site-packages\\tensorflow\\python\\client\\session.py\", line 1361, in _run_fn\n",
      "    return self._call_tf_sessionrun(options, feed_dict, fetch_list,\n",
      "  File \"D:\\anaconda3\\envs\\test2\\lib\\site-packages\\tensorflow\\python\\client\\session.py\", line 1454, in _call_tf_sessionrun\n",
      "    return tf_session.TF_SessionRun_wrapper(self._session, options, feed_dict,\n",
      "tensorflow.python.framework.errors_impl.CancelledError: Enqueue operation was cancelled\n",
      "\t [[{{node fifo_queue_enqueue}}]]\n",
      "\n",
      "During handling of the above exception, another exception occurred:\n",
      "\n",
      "Traceback (most recent call last):\n",
      "  File \"D:\\anaconda3\\envs\\test2\\lib\\threading.py\", line 932, in _bootstrap_inner\n",
      "    self.run()\n",
      "  File \"D:\\anaconda3\\envs\\test2\\lib\\threading.py\", line 870, in run\n",
      "    self._target(*self._args, **self._kwargs)\n",
      "  File \"C:\\Users\\Administrator\\Desktop\\APE_Project\\DeepLabCut-master\\deeplabcut\\pose_estimation_tensorflow\\core\\train.py\", line 83, in load_and_enqueue\n",
      "    sess.run(enqueue_op, feed_dict=food)\n",
      "  File \"D:\\anaconda3\\envs\\test2\\lib\\site-packages\\tensorflow\\python\\client\\session.py\", line 968, in run\n",
      "    result = self._run(None, fetches, feed_dict, options_ptr,\n",
      "  File \"D:\\anaconda3\\envs\\test2\\lib\\site-packages\\tensorflow\\python\\client\\session.py\", line 1191, in _run\n",
      "    results = self._do_run(handle, final_targets, final_fetches,\n",
      "  File \"D:\\anaconda3\\envs\\test2\\lib\\site-packages\\tensorflow\\python\\client\\session.py\", line 1371, in _do_run\n",
      "    return self._do_call(_run_fn, feeds, fetches, targets, options,\n",
      "  File \"D:\\anaconda3\\envs\\test2\\lib\\site-packages\\tensorflow\\python\\client\\session.py\", line 1397, in _do_call\n",
      "    raise type(e)(node_def, op, message)  # pylint: disable=no-value-for-parameter\n",
      "tensorflow.python.framework.errors_impl.CancelledError: Graph execution error:\n",
      "\n",
      "Detected at node 'fifo_queue_enqueue' defined at (most recent call last):\n",
      "    File \"D:\\anaconda3\\envs\\test2\\lib\\runpy.py\", line 192, in _run_module_as_main\n",
      "      return _run_code(code, main_globals, None,\n",
      "    File \"D:\\anaconda3\\envs\\test2\\lib\\runpy.py\", line 85, in _run_code\n",
      "      exec(code, run_globals)\n",
      "    File \"D:\\anaconda3\\envs\\test2\\lib\\site-packages\\ipykernel_launcher.py\", line 17, in <module>\n",
      "      app.launch_new_instance()\n",
      "    File \"D:\\anaconda3\\envs\\test2\\lib\\site-packages\\traitlets\\config\\application.py\", line 978, in launch_instance\n",
      "      app.start()\n",
      "    File \"D:\\anaconda3\\envs\\test2\\lib\\site-packages\\ipykernel\\kernelapp.py\", line 712, in start\n",
      "      self.io_loop.start()\n",
      "    File \"D:\\anaconda3\\envs\\test2\\lib\\site-packages\\tornado\\platform\\asyncio.py\", line 215, in start\n",
      "      self.asyncio_loop.run_forever()\n",
      "    File \"D:\\anaconda3\\envs\\test2\\lib\\asyncio\\base_events.py\", line 563, in run_forever\n",
      "      self._run_once()\n",
      "    File \"D:\\anaconda3\\envs\\test2\\lib\\asyncio\\base_events.py\", line 1844, in _run_once\n",
      "      handle._run()\n",
      "    File \"D:\\anaconda3\\envs\\test2\\lib\\asyncio\\events.py\", line 81, in _run\n",
      "      self._context.run(self._callback, *self._args)\n",
      "    File \"D:\\anaconda3\\envs\\test2\\lib\\site-packages\\ipykernel\\kernelbase.py\", line 510, in dispatch_queue\n",
      "      await self.process_one()\n",
      "    File \"D:\\anaconda3\\envs\\test2\\lib\\site-packages\\ipykernel\\kernelbase.py\", line 499, in process_one\n",
      "      await dispatch(*args)\n",
      "    File \"D:\\anaconda3\\envs\\test2\\lib\\site-packages\\ipykernel\\kernelbase.py\", line 406, in dispatch_shell\n",
      "      await result\n",
      "    File \"D:\\anaconda3\\envs\\test2\\lib\\site-packages\\ipykernel\\kernelbase.py\", line 730, in execute_request\n",
      "      reply_content = await reply_content\n",
      "    File \"D:\\anaconda3\\envs\\test2\\lib\\site-packages\\ipykernel\\ipkernel.py\", line 383, in do_execute\n",
      "      res = shell.run_cell(\n",
      "    File \"D:\\anaconda3\\envs\\test2\\lib\\site-packages\\ipykernel\\zmqshell.py\", line 528, in run_cell\n",
      "      return super().run_cell(*args, **kwargs)\n",
      "    File \"D:\\anaconda3\\envs\\test2\\lib\\site-packages\\IPython\\core\\interactiveshell.py\", line 2885, in run_cell\n",
      "      result = self._run_cell(\n",
      "    File \"D:\\anaconda3\\envs\\test2\\lib\\site-packages\\IPython\\core\\interactiveshell.py\", line 2940, in _run_cell\n",
      "      return runner(coro)\n",
      "    File \"D:\\anaconda3\\envs\\test2\\lib\\site-packages\\IPython\\core\\async_helpers.py\", line 129, in _pseudo_sync_runner\n",
      "      coro.send(None)\n",
      "    File \"D:\\anaconda3\\envs\\test2\\lib\\site-packages\\IPython\\core\\interactiveshell.py\", line 3139, in run_cell_async\n",
      "      has_raised = await self.run_ast_nodes(code_ast.body, cell_name,\n",
      "    File \"D:\\anaconda3\\envs\\test2\\lib\\site-packages\\IPython\\core\\interactiveshell.py\", line 3318, in run_ast_nodes\n",
      "      if await self.run_code(code, result, async_=asy):\n",
      "    File \"D:\\anaconda3\\envs\\test2\\lib\\site-packages\\IPython\\core\\interactiveshell.py\", line 3378, in run_code\n",
      "      exec(code_obj, self.user_global_ns, self.user_ns)\n",
      "    File \"C:\\Users\\Administrator\\AppData\\Local\\Temp\\ipykernel_13156\\1614961225.py\", line 1, in <module>\n",
      "      deeplabcut.train_network(\n",
      "    File \"C:\\Users\\Administrator\\Desktop\\APE_Project\\DeepLabCut-master\\deeplabcut\\pose_estimation_tensorflow\\training.py\", line 210, in train_network\n",
      "      train(\n",
      "    File \"C:\\Users\\Administrator\\Desktop\\APE_Project\\DeepLabCut-master\\deeplabcut\\pose_estimation_tensorflow\\core\\train.py\", line 168, in train\n",
      "      batch, enqueue_op, placeholders = setup_preloading(batch_spec)\n",
      "    File \"C:\\Users\\Administrator\\Desktop\\APE_Project\\DeepLabCut-master\\deeplabcut\\pose_estimation_tensorflow\\core\\train.py\", line 69, in setup_preloading\n",
      "      enqueue_op = q.enqueue(placeholders_list)\n",
      "Node: 'fifo_queue_enqueue'\n",
      "Enqueue operation was cancelled\n",
      "\t [[{{node fifo_queue_enqueue}}]]\n",
      "\n",
      "Original stack trace for 'fifo_queue_enqueue':\n",
      "  File \"D:\\anaconda3\\envs\\test2\\lib\\runpy.py\", line 192, in _run_module_as_main\n",
      "    return _run_code(code, main_globals, None,\n",
      "  File \"D:\\anaconda3\\envs\\test2\\lib\\runpy.py\", line 85, in _run_code\n",
      "    exec(code, run_globals)\n",
      "  File \"D:\\anaconda3\\envs\\test2\\lib\\site-packages\\ipykernel_launcher.py\", line 17, in <module>\n",
      "    app.launch_new_instance()\n",
      "  File \"D:\\anaconda3\\envs\\test2\\lib\\site-packages\\traitlets\\config\\application.py\", line 978, in launch_instance\n",
      "    app.start()\n",
      "  File \"D:\\anaconda3\\envs\\test2\\lib\\site-packages\\ipykernel\\kernelapp.py\", line 712, in start\n",
      "    self.io_loop.start()\n",
      "  File \"D:\\anaconda3\\envs\\test2\\lib\\site-packages\\tornado\\platform\\asyncio.py\", line 215, in start\n",
      "    self.asyncio_loop.run_forever()\n",
      "  File \"D:\\anaconda3\\envs\\test2\\lib\\asyncio\\base_events.py\", line 563, in run_forever\n",
      "    self._run_once()\n",
      "  File \"D:\\anaconda3\\envs\\test2\\lib\\asyncio\\base_events.py\", line 1844, in _run_once\n",
      "    handle._run()\n",
      "  File \"D:\\anaconda3\\envs\\test2\\lib\\asyncio\\events.py\", line 81, in _run\n",
      "    self._context.run(self._callback, *self._args)\n",
      "  File \"D:\\anaconda3\\envs\\test2\\lib\\site-packages\\ipykernel\\kernelbase.py\", line 510, in dispatch_queue\n",
      "    await self.process_one()\n",
      "  File \"D:\\anaconda3\\envs\\test2\\lib\\site-packages\\ipykernel\\kernelbase.py\", line 499, in process_one\n",
      "    await dispatch(*args)\n",
      "  File \"D:\\anaconda3\\envs\\test2\\lib\\site-packages\\ipykernel\\kernelbase.py\", line 406, in dispatch_shell\n",
      "    await result\n",
      "  File \"D:\\anaconda3\\envs\\test2\\lib\\site-packages\\ipykernel\\kernelbase.py\", line 730, in execute_request\n",
      "    reply_content = await reply_content\n",
      "  File \"D:\\anaconda3\\envs\\test2\\lib\\site-packages\\ipykernel\\ipkernel.py\", line 383, in do_execute\n",
      "    res = shell.run_cell(\n",
      "  File \"D:\\anaconda3\\envs\\test2\\lib\\site-packages\\ipykernel\\zmqshell.py\", line 528, in run_cell\n",
      "    return super().run_cell(*args, **kwargs)\n",
      "  File \"D:\\anaconda3\\envs\\test2\\lib\\site-packages\\IPython\\core\\interactiveshell.py\", line 2885, in run_cell\n",
      "    result = self._run_cell(\n",
      "  File \"D:\\anaconda3\\envs\\test2\\lib\\site-packages\\IPython\\core\\interactiveshell.py\", line 2940, in _run_cell\n",
      "    return runner(coro)\n",
      "  File \"D:\\anaconda3\\envs\\test2\\lib\\site-packages\\IPython\\core\\async_helpers.py\", line 129, in _pseudo_sync_runner\n",
      "    coro.send(None)\n",
      "  File \"D:\\anaconda3\\envs\\test2\\lib\\site-packages\\IPython\\core\\interactiveshell.py\", line 3139, in run_cell_async\n",
      "    has_raised = await self.run_ast_nodes(code_ast.body, cell_name,\n",
      "  File \"D:\\anaconda3\\envs\\test2\\lib\\site-packages\\IPython\\core\\interactiveshell.py\", line 3318, in run_ast_nodes\n",
      "    if await self.run_code(code, result, async_=asy):\n",
      "  File \"D:\\anaconda3\\envs\\test2\\lib\\site-packages\\IPython\\core\\interactiveshell.py\", line 3378, in run_code\n",
      "    exec(code_obj, self.user_global_ns, self.user_ns)\n",
      "  File \"C:\\Users\\Administrator\\AppData\\Local\\Temp\\ipykernel_13156\\1614961225.py\", line 1, in <module>\n",
      "    deeplabcut.train_network(\n",
      "  File \"C:\\Users\\Administrator\\Desktop\\APE_Project\\DeepLabCut-master\\deeplabcut\\pose_estimation_tensorflow\\training.py\", line 210, in train_network\n",
      "    train(\n",
      "  File \"C:\\Users\\Administrator\\Desktop\\APE_Project\\DeepLabCut-master\\deeplabcut\\pose_estimation_tensorflow\\core\\train.py\", line 168, in train\n",
      "    batch, enqueue_op, placeholders = setup_preloading(batch_spec)\n",
      "  File \"C:\\Users\\Administrator\\Desktop\\APE_Project\\DeepLabCut-master\\deeplabcut\\pose_estimation_tensorflow\\core\\train.py\", line 69, in setup_preloading\n",
      "    enqueue_op = q.enqueue(placeholders_list)\n",
      "  File \"D:\\anaconda3\\envs\\test2\\lib\\site-packages\\tensorflow\\python\\ops\\data_flow_ops.py\", line 346, in enqueue\n",
      "    return gen_data_flow_ops.queue_enqueue_v2(\n",
      "  File \"D:\\anaconda3\\envs\\test2\\lib\\site-packages\\tensorflow\\python\\ops\\gen_data_flow_ops.py\", line 4062, in queue_enqueue_v2\n",
      "    _, _, _op, _outputs = _op_def_library._apply_op_helper(\n",
      "  File \"D:\\anaconda3\\envs\\test2\\lib\\site-packages\\tensorflow\\python\\framework\\op_def_library.py\", line 797, in _apply_op_helper\n",
      "    op = g._create_op_internal(op_type_name, inputs, dtypes=None,\n",
      "  File \"D:\\anaconda3\\envs\\test2\\lib\\site-packages\\tensorflow\\python\\framework\\ops.py\", line 3800, in _create_op_internal\n",
      "    ret = Operation(\n",
      "\n"
     ]
    },
    {
     "name": "stdout",
     "output_type": "stream",
     "text": [
      "The network is now trained and ready to evaluate. Use the function 'evaluate_network' to evaluate the network.\n"
     ]
    }
   ],
   "source": [
    "deeplabcut.train_network(\n",
    "    config_path, shuffle=1, saveiters=100, displayiters=100,maxiters=10000\n",
    ")"
   ]
  },
  {
   "cell_type": "code",
   "execution_count": 34,
   "id": "124d7766",
   "metadata": {
    "collapsed": true,
    "jupyter": {
     "outputs_hidden": true
    },
    "tags": []
   },
   "outputs": [
    {
     "name": "stderr",
     "output_type": "stream",
     "text": [
      "Config:\n",
      "{'all_joints': [[0], [1], [2], [3], [4], [5], [6], [7], [8], [9], [10]],\n",
      " 'all_joints_names': ['snout',\n",
      "                      'rightear',\n",
      "                      'leftear',\n",
      "                      'shoulder',\n",
      "                      'spine1',\n",
      "                      'spine2',\n",
      "                      'sacrum',\n",
      "                      'tailbase',\n",
      "                      'tail1',\n",
      "                      'tail2',\n",
      "                      'tailend'],\n",
      " 'batch_size': 1,\n",
      " 'crop_pad': 0,\n",
      " 'dataset': 'training-datasets\\\\iteration-0\\\\UnaugmentedDataSet_cutemiceSep15\\\\cutemice_me95shuffle1.mat',\n",
      " 'dataset_type': 'imgaug',\n",
      " 'deterministic': False,\n",
      " 'fg_fraction': 0.25,\n",
      " 'global_scale': 0.8,\n",
      " 'init_weights': 'C:\\\\Users\\\\Administrator\\\\Desktop\\\\APE_Project\\\\DeepLabCut-master\\\\deeplabcut\\\\pose_estimation_tensorflow\\\\models\\\\pretrained\\\\resnet_v1_50.ckpt',\n",
      " 'intermediate_supervision': False,\n",
      " 'intermediate_supervision_layer': 12,\n",
      " 'location_refinement': True,\n",
      " 'locref_huber_loss': True,\n",
      " 'locref_loss_weight': 1.0,\n",
      " 'locref_stdev': 7.2801,\n",
      " 'log_dir': 'log',\n",
      " 'mean_pixel': [123.68, 116.779, 103.939],\n",
      " 'mirror': False,\n",
      " 'net_type': 'resnet_50',\n",
      " 'num_joints': 11,\n",
      " 'optimizer': 'sgd',\n",
      " 'pairwise_huber_loss': True,\n",
      " 'pairwise_predict': False,\n",
      " 'partaffinityfield_predict': False,\n",
      " 'regularize': False,\n",
      " 'scoremap_dir': 'test',\n",
      " 'shuffle': True,\n",
      " 'snapshot_prefix': 'C:\\\\Users\\\\Administrator\\\\Desktop\\\\APE_Project\\\\DeepLabCut-master\\\\cutemice-me-2022-09-15\\\\dlc-models\\\\iteration-0\\\\cutemiceSep15-trainset95shuffle1\\\\test\\\\snapshot',\n",
      " 'stride': 8.0,\n",
      " 'weigh_negatives': False,\n",
      " 'weigh_only_present_joints': False,\n",
      " 'weigh_part_predictions': False,\n",
      " 'weight_decay': 0.0001}\n",
      "D:\\anaconda3\\envs\\test2\\lib\\site-packages\\tensorflow\\python\\keras\\engine\\base_layer_v1.py:1694: UserWarning: `layer.apply` is deprecated and will be removed in a future version. Please use `layer.__call__` method instead.\n",
      "  warnings.warn('`layer.apply` is deprecated and '\n"
     ]
    },
    {
     "name": "stdout",
     "output_type": "stream",
     "text": [
      "Running  DLC_resnet50_cutemiceSep15shuffle1_19030  with # of training iterations: 19030\n",
      "Running evaluation ...\n"
     ]
    },
    {
     "name": "stderr",
     "output_type": "stream",
     "text": [
      "15it [00:01,  8.53it/s]\n"
     ]
    },
    {
     "name": "stdout",
     "output_type": "stream",
     "text": [
      "Analysis is done and the results are stored (see evaluation-results) for snapshot:  snapshot-19030\n",
      "Results for 19030  training iterations: 95 1 train error: 2.03 pixels. Test error: 8.31  pixels.\n",
      "With pcutoff of 0.6  train error: 2.03 pixels. Test error: 6.56 pixels\n",
      "Thereby, the errors are given by the average distances between the labels by DLC and the scorer.\n",
      "Plotting...\n"
     ]
    },
    {
     "name": "stderr",
     "output_type": "stream",
     "text": [
      "100%|██████████████████████████████████████████████████████████████████████████████████| 15/15 [00:06<00:00,  2.45it/s]"
     ]
    },
    {
     "name": "stdout",
     "output_type": "stream",
     "text": [
      "The network is evaluated and the results are stored in the subdirectory 'evaluation_results'.\n",
      "Please check the results, then choose the best model (snapshot) for prediction. You can update the config.yaml file with the appropriate index for the 'snapshotindex'.\n",
      "Use the function 'analyze_video' to make predictions on new videos.\n",
      "Otherwise, consider adding more labeled-data and retraining the network (see DeepLabCut workflow Fig 2, Nath 2019)\n"
     ]
    },
    {
     "name": "stderr",
     "output_type": "stream",
     "text": [
      "\n"
     ]
    },
    {
     "data": {
      "image/png": "[encoded data removed]",
      "text/plain": [
       "<Figure size 720x1280 with 1 Axes>"
      ]
     },
     "metadata": {},
     "output_type": "display_data"
    }
   ],
   "source": [
    "deeplabcut.evaluate_network(\n",
    "    config_path,\n",
    "    plotting=True,\n",
    ")"
   ]
  },
  {
   "cell_type": "code",
   "execution_count": null,
   "id": "a70ed78c-b214-4d46-9446-ed1519c7e3ed",
   "metadata": {},
   "outputs": [],
   "source": []
  },
  {
   "cell_type": "code",
   "execution_count": 63,
   "id": "9cde0529-80be-4550-95dd-150e2c26bca5",
   "metadata": {},
   "outputs": [],
   "source": [
    "video_path='C:/Users/Administrator/Desktop/APE_Project/DeepLabCut-master/cutemice-me-2022-09-15/test_videos.mp4'"
   ]
  },
  {
   "cell_type": "code",
   "execution_count": 64,
   "id": "648d5ad0",
   "metadata": {},
   "outputs": [
    {
     "name": "stderr",
     "output_type": "stream",
     "text": [
      "Config:\n",
      "{'all_joints': [[0], [1], [2], [3], [4], [5], [6], [7], [8], [9], [10]],\n",
      " 'all_joints_names': ['snout',\n",
      "                      'rightear',\n",
      "                      'leftear',\n",
      "                      'shoulder',\n",
      "                      'spine1',\n",
      "                      'spine2',\n",
      "                      'sacrum',\n",
      "                      'tailbase',\n",
      "                      'tail1',\n",
      "                      'tail2',\n",
      "                      'tailend'],\n",
      " 'batch_size': 1,\n",
      " 'crop_pad': 0,\n",
      " 'dataset': 'training-datasets\\\\iteration-0\\\\UnaugmentedDataSet_cutemiceSep15\\\\cutemice_me95shuffle1.mat',\n",
      " 'dataset_type': 'imgaug',\n",
      " 'deterministic': False,\n",
      " 'fg_fraction': 0.25,\n",
      " 'global_scale': 0.8,\n",
      " 'init_weights': 'C:\\\\Users\\\\Administrator\\\\Desktop\\\\APE_Project\\\\DeepLabCut-master\\\\deeplabcut\\\\pose_estimation_tensorflow\\\\models\\\\pretrained\\\\resnet_v1_50.ckpt',\n",
      " 'intermediate_supervision': False,\n",
      " 'intermediate_supervision_layer': 12,\n",
      " 'location_refinement': True,\n",
      " 'locref_huber_loss': True,\n",
      " 'locref_loss_weight': 1.0,\n",
      " 'locref_stdev': 7.2801,\n",
      " 'log_dir': 'log',\n",
      " 'mean_pixel': [123.68, 116.779, 103.939],\n",
      " 'mirror': False,\n",
      " 'net_type': 'resnet_50',\n",
      " 'num_joints': 11,\n",
      " 'optimizer': 'sgd',\n",
      " 'pairwise_huber_loss': True,\n",
      " 'pairwise_predict': False,\n",
      " 'partaffinityfield_predict': False,\n",
      " 'regularize': False,\n",
      " 'scoremap_dir': 'test',\n",
      " 'shuffle': True,\n",
      " 'snapshot_prefix': 'C:\\\\Users\\\\Administrator\\\\Desktop\\\\APE_Project\\\\DeepLabCut-master\\\\cutemice-me-2022-09-15\\\\dlc-models\\\\iteration-0\\\\cutemiceSep15-trainset95shuffle1\\\\test\\\\snapshot',\n",
      " 'stride': 8.0,\n",
      " 'weigh_negatives': False,\n",
      " 'weigh_only_present_joints': False,\n",
      " 'weigh_part_predictions': False,\n",
      " 'weight_decay': 0.0001}\n"
     ]
    },
    {
     "name": "stdout",
     "output_type": "stream",
     "text": [
      "Using snapshot-19030 for model C:/Users/Administrator/Desktop/APE_Project/DeepLabCut-master/cutemice-me-2022-09-15\\dlc-models\\iteration-0\\cutemiceSep15-trainset95shuffle1\n",
      "Starting to analyze %  C:/Users/Administrator/Desktop/APE_Project/DeepLabCut-master/cutemice-me-2022-09-15/test_videos.mp4\n",
      "Loading  C:/Users/Administrator/Desktop/APE_Project/DeepLabCut-master/cutemice-me-2022-09-15/test_videos.mp4\n",
      "Duration of video [s]:  180.67 , recorded with  30.0 fps!\n",
      "Overall # of frames:  5421  found with (before cropping) frame dimensions:  720 1280\n",
      "Starting to extract posture\n"
     ]
    },
    {
     "name": "stderr",
     "output_type": "stream",
     "text": [
      "100%|█████████████████████████████████████████████████████████████████████████████▋| 5400/5421 [03:48<00:00, 23.64it/s]\n"
     ]
    },
    {
     "name": "stdout",
     "output_type": "stream",
     "text": [
      "Saving results in C:\\Users\\Administrator\\Desktop\\APE_Project\\DeepLabCut-master\\cutemice-me-2022-09-15...\n",
      "Saving csv poses!\n",
      "The videos are analyzed. Now your research can truly start! \n",
      " You can create labeled videos with 'create_labeled_video'\n",
      "If the tracking is not satisfactory for some videos, consider expanding the training set. You can use the function 'extract_outlier_frames' to extract a few representative outlier frames.\n"
     ]
    },
    {
     "data": {
      "text/plain": [
       "'DLC_resnet50_cutemiceSep15shuffle1_19030'"
      ]
     },
     "execution_count": 64,
     "metadata": {},
     "output_type": "execute_result"
    }
   ],
   "source": [
    "# video analysis -> csv file\n",
    "deeplabcut.analyze_videos(config_path,\n",
    "                          video_path,\n",
    "                          save_as_csv=True)"
   ]
  },
  {
   "cell_type": "code",
   "execution_count": 65,
   "id": "4aa8c626-9fb9-4051-b50c-774e0c8f326a",
   "metadata": {},
   "outputs": [
    {
     "name": "stdout",
     "output_type": "stream",
     "text": [
      "Loading  C:/Users/Administrator/Desktop/APE_Project/DeepLabCut-master/cutemice-me-2022-09-15/test_videos.mp4 and data.\n",
      "Plots created! Please check the directory \"plot-poses\" within the video directory\n"
     ]
    }
   ],
   "source": [
    "# result plot\n",
    "deeplabcut.plot_trajectories(config_path, video_path)"
   ]
  },
  {
   "cell_type": "code",
   "execution_count": 56,
   "id": "64579cfe-6bc1-47f0-95ee-11d2fb7962ad",
   "metadata": {},
   "outputs": [
    {
     "name": "stdout",
     "output_type": "stream",
     "text": [
      "Loading  C:/Users/Administrator/Desktop/APE_Project/DeepLabCut-master/cutemice-me-2022-09-15/test2_videos.mp4 and data.\n",
      "Plots created! Please check the directory \"plot-poses\" within the video directory\n"
     ]
    }
   ],
   "source": []
  },
  {
   "cell_type": "code",
   "execution_count": 66,
   "id": "dee26df9-188d-4a2a-b8f3-63d212ba61f9",
   "metadata": {},
   "outputs": [],
   "source": [
    "# dot video\n",
    "deeplabcut.create_labeled_video(config_path, video_path, save_frames = False)"
   ]
  },
  {
   "cell_type": "code",
   "execution_count": 67,
   "id": "0733354f-b2c4-4072-a17a-51b4125f8eff",
   "metadata": {},
   "outputs": [],
   "source": [
    "# dot and skeleton video\n",
    "deeplabcut.create_labeled_video(config_path, video_path,\n",
    "                                videotype='mp4', draw_skeleton=True)"
   ]
  },
  {
   "cell_type": "code",
   "execution_count": 68,
   "id": "15608e34-89c8-410d-a835-cf5245ca5a69",
   "metadata": {},
   "outputs": [],
   "source": [
    "# dot and dot trajectory video\n",
    "deeplabcut.create_labeled_video(config_path, video_path,\n",
    "                                videotype='mp4', trailpoints=7)"
   ]
  },
  {
   "cell_type": "code",
   "execution_count": null,
   "id": "26825fe2-0f97-4034-bd2a-4e148700299d",
   "metadata": {
    "jupyter": {
     "source_hidden": true
    },
    "tags": []
   },
   "outputs": [],
   "source": []
  },
  {
   "cell_type": "code",
   "execution_count": null,
   "id": "0cbfbe33-fa19-4a32-aed7-c1700bd1809c",
   "metadata": {},
   "outputs": [],
   "source": []
  },
  {
   "cell_type": "code",
   "execution_count": null,
   "id": "bdbd200b-ed4b-489c-b154-eb85392f5af9",
   "metadata": {},
   "outputs": [],
   "source": []
  },
  {
   "cell_type": "code",
   "execution_count": 44,
   "id": "0b1ed30b",
   "metadata": {},
   "outputs": [
    {
     "ename": "KeyError",
     "evalue": "'multianimalbodyparts'",
     "output_type": "error",
     "traceback": [
      "\u001b[1;31m---------------------------------------------------------------------------\u001b[0m",
      "\u001b[1;31mKeyError\u001b[0m                                  Traceback (most recent call last)",
      "Cell \u001b[1;32mIn [44], line 1\u001b[0m\n\u001b[1;32m----> 1\u001b[0m \u001b[43mdeeplabcut\u001b[49m\u001b[38;5;241;43m.\u001b[39;49m\u001b[43mconvert_detections2tracklets\u001b[49m\u001b[43m(\u001b[49m\n\u001b[0;32m      2\u001b[0m \u001b[43m    \u001b[49m\u001b[43mconfig_path\u001b[49m\u001b[43m,\u001b[49m\n\u001b[0;32m      3\u001b[0m \u001b[43m    \u001b[49m\u001b[43mvideo_path\u001b[49m\u001b[43m,\u001b[49m\n\u001b[0;32m      4\u001b[0m \u001b[43m    \u001b[49m\u001b[43mtrack_method\u001b[49m\u001b[38;5;241;43m=\u001b[39;49m\u001b[38;5;124;43m\"\u001b[39;49m\u001b[38;5;124;43mellipse\u001b[39;49m\u001b[38;5;124;43m\"\u001b[39;49m\u001b[43m,\u001b[49m\n\u001b[0;32m      5\u001b[0m \u001b[43m)\u001b[49m\n",
      "File \u001b[1;32m~\\Desktop\\APE_Project\\DeepLabCut-master\\deeplabcut\\pose_estimation_tensorflow\\predict_videos.py:1633\u001b[0m, in \u001b[0;36mconvert_detections2tracklets\u001b[1;34m(config, videos, videotype, shuffle, trainingsetindex, overwrite, destfolder, ignore_bodyparts, inferencecfg, modelprefix, greedy, calibrate, window_size, identity_only, track_method)\u001b[0m\n\u001b[0;32m   1630\u001b[0m cfg \u001b[38;5;241m=\u001b[39m auxiliaryfunctions\u001b[38;5;241m.\u001b[39mread_config(config)\n\u001b[0;32m   1631\u001b[0m track_method \u001b[38;5;241m=\u001b[39m auxfun_multianimal\u001b[38;5;241m.\u001b[39mget_track_method(cfg, track_method\u001b[38;5;241m=\u001b[39mtrack_method)\n\u001b[1;32m-> 1633\u001b[0m \u001b[38;5;28;01mif\u001b[39;00m \u001b[38;5;28mlen\u001b[39m(\u001b[43mcfg\u001b[49m\u001b[43m[\u001b[49m\u001b[38;5;124;43m\"\u001b[39;49m\u001b[38;5;124;43mmultianimalbodyparts\u001b[39;49m\u001b[38;5;124;43m\"\u001b[39;49m\u001b[43m]\u001b[49m) \u001b[38;5;241m==\u001b[39m \u001b[38;5;241m1\u001b[39m \u001b[38;5;129;01mand\u001b[39;00m track_method \u001b[38;5;241m!=\u001b[39m \u001b[38;5;124m\"\u001b[39m\u001b[38;5;124mbox\u001b[39m\u001b[38;5;124m\"\u001b[39m:\n\u001b[0;32m   1634\u001b[0m     warnings\u001b[38;5;241m.\u001b[39mwarn(\u001b[38;5;124m\"\u001b[39m\u001b[38;5;124mSwitching to `box` tracker for single point tracking...\u001b[39m\u001b[38;5;124m\"\u001b[39m)\n\u001b[0;32m   1635\u001b[0m     track_method \u001b[38;5;241m=\u001b[39m \u001b[38;5;124m\"\u001b[39m\u001b[38;5;124mbox\u001b[39m\u001b[38;5;124m\"\u001b[39m\n",
      "File \u001b[1;32mD:\\anaconda3\\envs\\test2\\lib\\site-packages\\ruamel\\yaml\\comments.py:927\u001b[0m, in \u001b[0;36mCommentedMap.__getitem__\u001b[1;34m(self, key)\u001b[0m\n\u001b[0;32m    924\u001b[0m \u001b[38;5;28;01mdef\u001b[39;00m \u001b[38;5;21m__getitem__\u001b[39m(\u001b[38;5;28mself\u001b[39m, key):\n\u001b[0;32m    925\u001b[0m     \u001b[38;5;66;03m# type: (Any) -> Any\u001b[39;00m\n\u001b[0;32m    926\u001b[0m     \u001b[38;5;28;01mtry\u001b[39;00m:\n\u001b[1;32m--> 927\u001b[0m         \u001b[38;5;28;01mreturn\u001b[39;00m \u001b[43mordereddict\u001b[49m\u001b[38;5;241;43m.\u001b[39;49m\u001b[38;5;21;43m__getitem__\u001b[39;49m\u001b[43m(\u001b[49m\u001b[38;5;28;43mself\u001b[39;49m\u001b[43m,\u001b[49m\u001b[43m \u001b[49m\u001b[43mkey\u001b[49m\u001b[43m)\u001b[49m\n\u001b[0;32m    928\u001b[0m     \u001b[38;5;28;01mexcept\u001b[39;00m \u001b[38;5;167;01mKeyError\u001b[39;00m:\n\u001b[0;32m    929\u001b[0m         \u001b[38;5;28;01mfor\u001b[39;00m merged \u001b[38;5;129;01min\u001b[39;00m \u001b[38;5;28mgetattr\u001b[39m(\u001b[38;5;28mself\u001b[39m, merge_attrib, []):\n",
      "\u001b[1;31mKeyError\u001b[0m: 'multianimalbodyparts'"
     ]
    }
   ],
   "source": [
    "deeplabcut.convert_detections2tracklets(\n",
    "    config_path,\n",
    "    video_path,\n",
    "    track_method=\"ellipse\",\n",
    ")"
   ]
  },
  {
   "cell_type": "code",
   "execution_count": null,
   "id": "e2855eb7",
   "metadata": {},
   "outputs": [],
   "source": [
    "deeplabcut.convert_detections2tracklets(\n",
    "    config_path,\n",
    "    [video],\n",
    "    track_method=\"ellipse\",\n",
    ")"
   ]
  },
  {
   "cell_type": "code",
   "execution_count": null,
   "id": "817ff42b",
   "metadata": {},
   "outputs": [],
   "source": [
    "deeplabcut.create_labeled_video(\n",
    "    config_path,\n",
    "    [video],\n",
    "    color_by=\"individual\",\n",
    "    keypoints_only=False,\n",
    "    trailpoints=10,\n",
    "    draw_skeleton=False,\n",
    "    track_method=\"ellipse\",\n",
    ")"
   ]
  },
  {
   "cell_type": "code",
   "execution_count": null,
   "id": "7c24a75b",
   "metadata": {},
   "outputs": [],
   "source": []
  }
 ],
 "metadata": {
  "kernelspec": {
   "display_name": "Python 3 (ipykernel)",
   "language": "python",
   "name": "python3"
  },
  "language_info": {
   "codemirror_mode": {
    "name": "ipython",
    "version": 3
   },
   "file_extension": ".py",
   "mimetype": "text/x-python",
   "name": "python",
   "nbconvert_exporter": "python",
   "pygments_lexer": "ipython3",
   "version": "3.9.12"
  },
  "vscode": {
   "interpreter": {
    "hash": "70a36c8303d5459257718cd560ca5e3ed9263c5cb9a91a0b92539c5d5aa594c7"
   }
  }
 },
 "nbformat": 4,
 "nbformat_minor": 5
}
